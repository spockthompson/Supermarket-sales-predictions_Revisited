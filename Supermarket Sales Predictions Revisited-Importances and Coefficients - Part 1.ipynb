{
 "cells": [
  {
   "cell_type": "markdown",
   "id": "3c6fee95",
   "metadata": {},
   "source": [
    "# Project 1 Revisited: Importances and Coefficients"
   ]
  },
  {
   "cell_type": "markdown",
   "id": "4ba83a81",
   "metadata": {},
   "source": [
    "## Task\n",
    "- For this assignment, you will revisit your first project to predict supermarket sales. You will apply what you've learned this week to explain how your models made their predictions.\n",
    "### Project 1 Revisited - Part 1: Remaking, Saving, and Explaining Your Models\n",
    "- For this part of the project, you will be producing a new version of your final project notebook using the updated tools in sklearn v1.1. \n",
    "\n",
    "  - Create a new notebook called \"Project 1 - Revisited.ipynb\" in your project repo.\n",
    "    - You may either make a copy of your prior notebook that you will modify,\n",
    "or you can start a new blank notebook and copy over the code from your old notebook (as needed).\n",
    "- Remake your X_train and X_test as DataFrames with the feature names extracted from the column transformer instead of combining your preprocessor and model into 1 pipeline.\n",
    "### LinearRegression\n",
    "- Fit and evaluate your LinearRegresion model using your dataframe X_train and X_test data.\n",
    "- Extract and visualize the coefficients that your model determined.\n",
    "  - Select the top 3 most impactful features and interpret their coefficients in plain English.\n",
    "- Save your figure as a .png file inside your repository (you will need this for the final piece of this assignment - Update Your README).\n",
    "### Tree-Based Model\n",
    "- Fit and evaluate your tree-based regression model using your dataframe X_train and X_test data.\n",
    "- Extract and visualize the feature importances that your model determined.\n",
    "  - Identify the top 5 most important features.\n",
    "- Save your figure as a .png file inside your repository  (you will need this for the final piece of this assignment - Update Your README).\n",
    "### Serialize Your Best Models with Joblib\n",
    "- Once you've finished updating and explaining your models, you must save the following key: value pairs as a dictionary in a joblib file named \"best-models.joblib\":\n",
    "  - \"preprocessor\": your preprocessing  column transformer\n",
    "  - \"X_train\": your training features.\n",
    "  - \"X_test\": your test features.\n",
    "  - \"y_train\": your training target.\n",
    "  - \"y_test\": your test target.\n",
    "  - \"LinearRegression\": your best linear regression\n",
    "  - Your tree-based model's class name: your best tree-based model.\n",
    "    - e.g. \"RandomForestRegressor\"/\"DecisionTreeRegressor\"\n",
    "- Save your joblib file inside your repository. (You will work with these models again in the next core assignment.)\n",
    "### Update your README.\n",
    "- Insert your exported figures from above into your README file. You should have the following:\n",
    "  - Your LinearRegression coefficients plot.\n",
    "    - Your interpretation of your coefficients.\n",
    "  - Your tree-based model's feature importances.\n",
    "    - Your interpretation of your feature importances. \n"
   ]
  },
  {
   "cell_type": "code",
   "execution_count": null,
   "id": "927ecf39",
   "metadata": {},
   "outputs": [],
   "source": []
  }
 ],
 "metadata": {
  "kernelspec": {
   "display_name": "Python (dojo-env)",
   "language": "python",
   "name": "dojo-env"
  },
  "language_info": {
   "codemirror_mode": {
    "name": "ipython",
    "version": 3
   },
   "file_extension": ".py",
   "mimetype": "text/x-python",
   "name": "python",
   "nbconvert_exporter": "python",
   "pygments_lexer": "ipython3",
   "version": "3.9.15"
  },
  "toc": {
   "base_numbering": 1,
   "nav_menu": {},
   "number_sections": false,
   "sideBar": true,
   "skip_h1_title": false,
   "title_cell": "Table of Contents",
   "title_sidebar": "Contents",
   "toc_cell": false,
   "toc_position": {},
   "toc_section_display": true,
   "toc_window_display": true
  }
 },
 "nbformat": 4,
 "nbformat_minor": 5
}
